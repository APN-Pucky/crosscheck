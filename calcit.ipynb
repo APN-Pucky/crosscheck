{
 "cells": [
  {
   "cell_type": "code",
   "execution_count": 1,
   "id": "f9adacb3-4306-475f-a657-377672ea5767",
   "metadata": {
    "tags": []
   },
   "outputs": [],
   "source": [
    "from smpl_io import io\n",
    "import pandas as pd\n",
    "import numpy as np\n",
    "import os\n",
    "import sys\n",
    "\n",
    "sys.path.append(os.path.dirname(\"/home/apn/git/crosscheck/crosscheck\"))\n",
    "\n",
    "from crosscheck.data import rel_diff,ratio\n",
    "from crosscheck.recola2.recola2 import compute as rc_compute\n",
    "from crosscheck.madgraph.madgraph import compute as mg_compute"
   ]
  },
  {
   "cell_type": "code",
   "execution_count": 2,
   "id": "e28ba84d",
   "metadata": {},
   "outputs": [],
   "source": [
    "def rename(test_df):\n",
    "    test_df = test_df.rename(columns={1: 'in_1', 2: 'in_2',3:'out_1',4:'out_2', 5:'out_3'})\n",
    "    test_df = test_df.rename(columns={6:  'p_1_0',  7: 'p_1_1', 8:'p_1_2', 9:'p_1_3'})\n",
    "    test_df = test_df.rename(columns={10: 'p_2_0', 11: 'p_2_1',12:'p_2_2',13:'p_2_3'})\n",
    "    test_df = test_df.rename(columns={14: 'p_3_0', 15: 'p_3_1',16:'p_3_2',17:'p_3_3'})\n",
    "    test_df = test_df.rename(columns={18: 'p_4_0', 19: 'p_4_1',20:'p_4_2',21:'p_4_3'})\n",
    "    test_df = test_df.rename(columns={22: 'p_5_0', 23: 'p_5_1',24:'p_5_2',25:'p_5_3'})\n",
    "    test_df = test_df.rename(columns={26: 'alphas'})\n",
    "    test_df = test_df.rename(columns={27: 'alpha'})\n",
    "    test_df = test_df.rename(columns={28: 'mu_r'})\n",
    "    test_df = test_df.rename(columns={29: 'Born'})\n",
    "    test_df = test_df.rename(columns={30: 'Virt'})\n",
    "    return test_df"
   ]
  },
  {
   "cell_type": "code",
   "execution_count": 3,
   "id": "dd91ac49",
   "metadata": {},
   "outputs": [],
   "source": [
    "def mask(ol_df):\n",
    "    #return (ol_df[1] == \"-2\" )&(ol_df[2] == \"2\" )&(ol_df[3] == \"22\" )&(ol_df[4] == \"0\" )&(ol_df[5] == \"0\" )\n",
    "    return (ol_df[3] == \"22\" )\n"
   ]
  },
  {
   "cell_type": "code",
   "execution_count": 4,
   "id": "93666376-8d73-4628-ab36-7af3653e6dde",
   "metadata": {
    "tags": []
   },
   "outputs": [],
   "source": [
    "ol_df = pd.read_csv(io.between(\"START COMP DEBUG\",\"STOP COMP DEBUG\",\n",
    "                       \"/home/apn/git/powheg-box-v2/directphotonjj/testrun-lhc/bench-openloops/working/run-st1-xg1-1.log\"\n",
    "                      ),\n",
    "            header=None,\n",
    "            delimiter='\\s+',\n",
    "           )\n",
    "\n",
    "ol_df = ol_df[(ol_df[0] != \"Thanks\") & (ol_df[0] != \"Eur.Phys.J.\")]\n",
    "ol_df= ol_df.set_index(0)\n",
    "ol_df = ol_df [ mask(ol_df)]\n",
    "ol_df = rename(ol_df)\n",
    "ol_df"
   ]
  },
  {
   "cell_type": "code",
   "execution_count": null,
   "id": "c7f1e4ad",
   "metadata": {},
   "outputs": [],
   "source": [
    "\n"
   ]
  },
  {
   "cell_type": "code",
   "execution_count": 5,
   "id": "a4d5ed31",
   "metadata": {},
   "outputs": [],
   "source": [
    "rc_df = ol_df.copy()\n",
    "rc_compute(rc_df,order=\"NLO\")\n",
    "rc_df['Born'] = rc_df['Born']/rc_df['alphas']**2/rc_df['alpha']*ol_df['alphas']**2*ol_df['alpha']\n",
    "rc_df['Virt'] = rc_df['Virt']/rc_df['alphas']**3/rc_df['alpha']*ol_df['alphas']**3*ol_df['alpha']/(ol_df['alphas']/2/np.pi)\n",
    "rc_df"
   ]
  },
  {
   "cell_type": "code",
   "execution_count": null,
   "id": "370feba0",
   "metadata": {},
   "outputs": [],
   "source": []
  },
  {
   "cell_type": "code",
   "execution_count": null,
   "id": "81fe2f94",
   "metadata": {},
   "outputs": [],
   "source": []
  },
  {
   "cell_type": "code",
   "execution_count": null,
   "id": "9dfd3d0d",
   "metadata": {},
   "outputs": [],
   "source": []
  },
  {
   "cell_type": "code",
   "execution_count": null,
   "id": "7e320079",
   "metadata": {
    "scrolled": true
   },
   "outputs": [],
   "source": [
    "mg_df = ol_df.copy()\n",
    "mg_compute(mg_df)\n",
    "mg_df['Born'] = mg_df['Born']/mg_df['alphas']**2/mg_df['alpha']*ol_df['alphas']**2*ol_df['alpha']\n",
    "mg_df['Virt'] = mg_df['Virt']/mg_df['alphas']**3/mg_df['alpha']*ol_df['alphas']**3*ol_df['alpha']/(ol_df['alphas']/2/np.pi)\n",
    "mg_df"
   ]
  },
  {
   "cell_type": "code",
   "execution_count": null,
   "id": "26300552",
   "metadata": {},
   "outputs": [],
   "source": []
  },
  {
   "cell_type": "code",
   "execution_count": null,
   "id": "125eba7b",
   "metadata": {},
   "outputs": [],
   "source": []
  },
  {
   "cell_type": "code",
   "execution_count": null,
   "id": "b88d9a62-26ee-456d-8bc1-cecfd7b240ab",
   "metadata": {
    "tags": []
   },
   "outputs": [],
   "source": [
    "fc_df= pd.read_csv(io.between(\"START COMP DEBUG\",\"STOP COMP DEBUG\",\n",
    "                       \"/home/apn/git/powheg-box-v2/directphotonjj/testrun-lhc/bench-formcalc/working/run-st1-xg1-1.log\"),\n",
    "            header=None,\n",
    "            delimiter='\\s+',\n",
    "           )\n",
    "fc_df = fc_df[(fc_df[0] != \"Thanks\") & (fc_df[0] != \"Eur.Phys.J.\")]  \n",
    "fc_df= fc_df.set_index(0)  \n",
    "fc_df = fc_df [mask(fc_df)]\n",
    "fc_df = rename(fc_df)\n",
    "fc_df"
   ]
  },
  {
   "cell_type": "code",
   "execution_count": null,
   "id": "70376a97",
   "metadata": {},
   "outputs": [],
   "source": [
    "def masked(ol_df):\n",
    "    #return (ol_df[1] == \"-2\" )&(ol_df[2] == \"2\" )&(ol_df[3] == \"22\" )&(ol_df[4] == \"0\" )&(ol_df[5] == \"0\" )\n",
    "    #return ol_df[(ol_df['in_1'] == \"-2\" ) & (ol_df['in_2'] == \"2\")&(ol_df['out_1'] == \"22\" )&(ol_df['out_2'] == \"4\" )&(ol_df['out_3'] == \"-4\" )]\n",
    "    return ol_df\n",
    "m_fc_df = masked(fc_df)\n",
    "m_ol_df = masked(ol_df)\n",
    "m_mg_df = masked(mg_df)\n",
    "m_rc_df = masked(rc_df)\n"
   ]
  },
  {
   "cell_type": "code",
   "execution_count": null,
   "id": "59eea9c7",
   "metadata": {},
   "outputs": [],
   "source": []
  },
  {
   "cell_type": "code",
   "execution_count": null,
   "id": "274ab0da-7013-4c50-818a-f603bd6f7ac0",
   "metadata": {},
   "outputs": [],
   "source": [
    "print(rel_diff(m_fc_df, m_ol_df,m_mg_df, m_rc_df,column=\"Virt\",labels=[\"fc\", \"ol\",\"mg\",\"rc\"]))\n",
    "print(rel_diff(m_ol_df,m_mg_df, m_rc_df,column=\"Virt\",labels=[ \"ol\",\"mg\",\"rc\"]))\n",
    "print(rel_diff(m_mg_df, m_rc_df,column=\"Virt\",labels=[ \"mg\",\"rc\"]))"
   ]
  },
  {
   "cell_type": "code",
   "execution_count": null,
   "id": "d2514177-45cc-4dd6-8e74-7fc1d4ccf73f",
   "metadata": {},
   "outputs": [],
   "source": [
    "print(ratio(m_fc_df, m_ol_df,m_mg_df, m_rc_df,column=\"Virt\",labels=[\"fc\", \"ol\",\"mg\",\"rc\"],logy=False))\n",
    "print(ratio(m_ol_df,m_mg_df, m_rc_df,column=\"Virt\",labels=[ \"ol\",\"mg\",\"rc\"],logy=False))\n",
    "print(ratio(m_mg_df, m_rc_df,column=\"Virt\",labels=[ \"mg\",\"rc\"],logy=False))"
   ]
  },
  {
   "cell_type": "code",
   "execution_count": null,
   "id": "3d4fb95d",
   "metadata": {},
   "outputs": [],
   "source": []
  }
 ],
 "metadata": {
  "kernelspec": {
   "display_name": "Python 3 (ipykernel)",
   "language": "python",
   "name": "python3"
  },
  "language_info": {
   "codemirror_mode": {
    "name": "ipython",
    "version": 3
   },
   "file_extension": ".py",
   "mimetype": "text/x-python",
   "name": "python",
   "nbconvert_exporter": "python",
   "pygments_lexer": "ipython3",
   "version": "3.11.3"
  }
 },
 "nbformat": 4,
 "nbformat_minor": 5
}
